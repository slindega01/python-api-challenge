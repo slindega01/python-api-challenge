{
 "cells": [
  {
   "cell_type": "markdown",
   "metadata": {},
   "source": [
    "# VacationPy\n",
    "----\n",
    "\n",
    "#### Note\n",
    "* Keep an eye on your API usage. Use https://developers.google.com/maps/reporting/gmp-reporting as reference for how to monitor your usage and billing.\n",
    "\n",
    "* Instructions have been included for each segment. You do not have to follow them exactly, but they are included to help you think through the steps."
   ]
  },
  {
   "cell_type": "code",
   "execution_count": 97,
   "metadata": {},
   "outputs": [],
   "source": [
    "# Dependencies and Setup\n",
    "import matplotlib.pyplot as plt\n",
    "import pandas as pd\n",
    "import numpy as np\n",
    "import requests\n",
    "import gmaps\n",
    "import os\n",
    "\n",
    "# Import API key\n",
    "from api_keys import g_key"
   ]
  },
  {
   "cell_type": "markdown",
   "metadata": {},
   "source": [
    "### Store Part I results into DataFrame\n",
    "* Load the csv exported in Part I to a DataFrame"
   ]
  },
  {
   "cell_type": "code",
   "execution_count": 98,
   "metadata": {},
   "outputs": [
    {
     "data": {
      "text/html": [
       "<div>\n",
       "<style scoped>\n",
       "    .dataframe tbody tr th:only-of-type {\n",
       "        vertical-align: middle;\n",
       "    }\n",
       "\n",
       "    .dataframe tbody tr th {\n",
       "        vertical-align: top;\n",
       "    }\n",
       "\n",
       "    .dataframe thead th {\n",
       "        text-align: right;\n",
       "    }\n",
       "</style>\n",
       "<table border=\"1\" class=\"dataframe\">\n",
       "  <thead>\n",
       "    <tr style=\"text-align: right;\">\n",
       "      <th></th>\n",
       "      <th>Unnamed: 0</th>\n",
       "      <th>City</th>\n",
       "      <th>Cloudiness</th>\n",
       "      <th>Date</th>\n",
       "      <th>Country</th>\n",
       "      <th>Humidity</th>\n",
       "      <th>Temperature</th>\n",
       "      <th>Latitude</th>\n",
       "      <th>Longtitude</th>\n",
       "      <th>Wind</th>\n",
       "    </tr>\n",
       "  </thead>\n",
       "  <tbody>\n",
       "    <tr>\n",
       "      <th>0</th>\n",
       "      <td>0</td>\n",
       "      <td>victoria</td>\n",
       "      <td>74</td>\n",
       "      <td>1619290803</td>\n",
       "      <td>HK</td>\n",
       "      <td>86</td>\n",
       "      <td>298.15</td>\n",
       "      <td>22.2855</td>\n",
       "      <td>114.1577</td>\n",
       "      <td>0.45</td>\n",
       "    </tr>\n",
       "    <tr>\n",
       "      <th>1</th>\n",
       "      <td>1</td>\n",
       "      <td>zapolyarnyy</td>\n",
       "      <td>90</td>\n",
       "      <td>1619290906</td>\n",
       "      <td>RU</td>\n",
       "      <td>100</td>\n",
       "      <td>273.15</td>\n",
       "      <td>69.4154</td>\n",
       "      <td>30.8136</td>\n",
       "      <td>6.17</td>\n",
       "    </tr>\n",
       "    <tr>\n",
       "      <th>2</th>\n",
       "      <td>2</td>\n",
       "      <td>luanda</td>\n",
       "      <td>40</td>\n",
       "      <td>1619290853</td>\n",
       "      <td>AO</td>\n",
       "      <td>83</td>\n",
       "      <td>299.15</td>\n",
       "      <td>-8.8368</td>\n",
       "      <td>13.2343</td>\n",
       "      <td>1.54</td>\n",
       "    </tr>\n",
       "    <tr>\n",
       "      <th>3</th>\n",
       "      <td>3</td>\n",
       "      <td>bluff</td>\n",
       "      <td>100</td>\n",
       "      <td>1619290800</td>\n",
       "      <td>NZ</td>\n",
       "      <td>86</td>\n",
       "      <td>282.04</td>\n",
       "      <td>-46.6000</td>\n",
       "      <td>168.3333</td>\n",
       "      <td>2.24</td>\n",
       "    </tr>\n",
       "    <tr>\n",
       "      <th>4</th>\n",
       "      <td>4</td>\n",
       "      <td>adrar</td>\n",
       "      <td>6</td>\n",
       "      <td>1619291031</td>\n",
       "      <td>MR</td>\n",
       "      <td>11</td>\n",
       "      <td>305.73</td>\n",
       "      <td>20.5022</td>\n",
       "      <td>-10.0711</td>\n",
       "      <td>4.79</td>\n",
       "    </tr>\n",
       "  </tbody>\n",
       "</table>\n",
       "</div>"
      ],
      "text/plain": [
       "   Unnamed: 0         City  Cloudiness        Date Country  Humidity  \\\n",
       "0           0     victoria          74  1619290803      HK        86   \n",
       "1           1  zapolyarnyy          90  1619290906      RU       100   \n",
       "2           2       luanda          40  1619290853      AO        83   \n",
       "3           3        bluff         100  1619290800      NZ        86   \n",
       "4           4        adrar           6  1619291031      MR        11   \n",
       "\n",
       "   Temperature  Latitude  Longtitude  Wind  \n",
       "0       298.15   22.2855    114.1577  0.45  \n",
       "1       273.15   69.4154     30.8136  6.17  \n",
       "2       299.15   -8.8368     13.2343  1.54  \n",
       "3       282.04  -46.6000    168.3333  2.24  \n",
       "4       305.73   20.5022    -10.0711  4.79  "
      ]
     },
     "execution_count": 98,
     "metadata": {},
     "output_type": "execute_result"
    }
   ],
   "source": [
    "weather_data_df = pd.read_csv(\"../output_data/cities.csv\")\n",
    "weather_data_df.rename(columns={'Wind Speed':'Wind'},inplace=True)\n",
    "weather_data_df.head()\n"
   ]
  },
  {
   "cell_type": "markdown",
   "metadata": {},
   "source": [
    "### Humidity Heatmap\n",
    "* Configure gmaps.\n",
    "* Use the Lat and Lng as locations and Humidity as the weight.\n",
    "* Add Heatmap layer to map."
   ]
  },
  {
   "cell_type": "code",
   "execution_count": 99,
   "metadata": {
    "scrolled": true
   },
   "outputs": [
    {
     "data": {
      "application/vnd.jupyter.widget-view+json": {
       "model_id": "84e5b334029145679f405dba4b234895",
       "version_major": 2,
       "version_minor": 0
      },
      "text/plain": [
       "Figure(layout=FigureLayout(height='420px'))"
      ]
     },
     "metadata": {},
     "output_type": "display_data"
    }
   ],
   "source": [
    "gmaps.configure(api_key=g_key)\n",
    "coordinates = weather_data_df[['Latitude',\"Longtitude\"]]\n",
    "humidity = weather_data_df['Humidity']\n",
    "fig = gmaps.figure()\n",
    "heatmap_layer = gmaps.heatmap_layer(coordinates,weights=humidity)\n",
    "fig.add_layer(heatmap_layer)\n",
    "fig"
   ]
  },
  {
   "cell_type": "code",
   "execution_count": null,
   "metadata": {},
   "outputs": [],
   "source": []
  },
  {
   "cell_type": "markdown",
   "metadata": {},
   "source": [
    "### Create new DataFrame fitting weather criteria\n",
    "* Narrow down the cities to fit weather conditions.\n",
    "* Drop any rows will null values."
   ]
  },
  {
   "cell_type": "code",
   "execution_count": 100,
   "metadata": {},
   "outputs": [
    {
     "data": {
      "text/html": [
       "<div>\n",
       "<style scoped>\n",
       "    .dataframe tbody tr th:only-of-type {\n",
       "        vertical-align: middle;\n",
       "    }\n",
       "\n",
       "    .dataframe tbody tr th {\n",
       "        vertical-align: top;\n",
       "    }\n",
       "\n",
       "    .dataframe thead th {\n",
       "        text-align: right;\n",
       "    }\n",
       "</style>\n",
       "<table border=\"1\" class=\"dataframe\">\n",
       "  <thead>\n",
       "    <tr style=\"text-align: right;\">\n",
       "      <th></th>\n",
       "      <th>City</th>\n",
       "      <th>Cloudiness</th>\n",
       "      <th>Wind</th>\n",
       "      <th>Country</th>\n",
       "      <th>Temperature</th>\n",
       "      <th>Latitude</th>\n",
       "      <th>Longtitude</th>\n",
       "    </tr>\n",
       "  </thead>\n",
       "  <tbody>\n",
       "    <tr>\n",
       "      <th>109</th>\n",
       "      <td>okhotsk</td>\n",
       "      <td>0</td>\n",
       "      <td>9.26</td>\n",
       "      <td>PE</td>\n",
       "      <td>296.15</td>\n",
       "      <td>-13.7000</td>\n",
       "      <td>-76.2167</td>\n",
       "    </tr>\n",
       "    <tr>\n",
       "      <th>246</th>\n",
       "      <td>sechura</td>\n",
       "      <td>0</td>\n",
       "      <td>2.57</td>\n",
       "      <td>SY</td>\n",
       "      <td>295.93</td>\n",
       "      <td>34.8890</td>\n",
       "      <td>35.8866</td>\n",
       "    </tr>\n",
       "    <tr>\n",
       "      <th>386</th>\n",
       "      <td>saquena</td>\n",
       "      <td>0</td>\n",
       "      <td>3.54</td>\n",
       "      <td>AO</td>\n",
       "      <td>299.39</td>\n",
       "      <td>-15.1961</td>\n",
       "      <td>12.1522</td>\n",
       "    </tr>\n",
       "    <tr>\n",
       "      <th>387</th>\n",
       "      <td>bubaque</td>\n",
       "      <td>0</td>\n",
       "      <td>3.90</td>\n",
       "      <td>ZW</td>\n",
       "      <td>297.00</td>\n",
       "      <td>-22.2167</td>\n",
       "      <td>30.0000</td>\n",
       "    </tr>\n",
       "    <tr>\n",
       "      <th>476</th>\n",
       "      <td>geresk</td>\n",
       "      <td>0</td>\n",
       "      <td>3.65</td>\n",
       "      <td>MZ</td>\n",
       "      <td>295.35</td>\n",
       "      <td>-23.8650</td>\n",
       "      <td>35.3833</td>\n",
       "    </tr>\n",
       "  </tbody>\n",
       "</table>\n",
       "</div>"
      ],
      "text/plain": [
       "        City  Cloudiness  Wind Country  Temperature  Latitude  Longtitude\n",
       "109  okhotsk           0  9.26      PE       296.15  -13.7000    -76.2167\n",
       "246  sechura           0  2.57      SY       295.93   34.8890     35.8866\n",
       "386  saquena           0  3.54      AO       299.39  -15.1961     12.1522\n",
       "387  bubaque           0  3.90      ZW       297.00  -22.2167     30.0000\n",
       "476   geresk           0  3.65      MZ       295.35  -23.8650     35.3833"
      ]
     },
     "execution_count": 100,
     "metadata": {},
     "output_type": "execute_result"
    }
   ],
   "source": [
    "good_weather = pd.DataFrame(weather_data_df, columns = [\"City\",\"Cloudiness\",\"Wind\",\"Country\",\"Temperature\",\"Latitude\",\"Longtitude\"])\n",
    "good_weather = good_weather[good_weather.Temperature<300]\n",
    "good_weather = good_weather[good_weather.Temperature>294.2]\n",
    "good_weather = good_weather[good_weather.Wind<10]\n",
    "good_weather = good_weather[good_weather.Cloudiness==0]\n",
    "good_weather.head()"
   ]
  },
  {
   "cell_type": "markdown",
   "metadata": {},
   "source": [
    "### Hotel Map\n",
    "* Store into variable named `hotel_df`.\n",
    "* Add a \"Hotel Name\" column to the DataFrame.\n",
    "* Set parameters to search for hotels with 5000 meters.\n",
    "* Hit the Google Places API for each city's coordinates.\n",
    "* Store the first Hotel result into the DataFrame.\n",
    "* Plot markers on top of the heatmap."
   ]
  },
  {
   "cell_type": "code",
   "execution_count": 114,
   "metadata": {},
   "outputs": [
    {
     "data": {
      "text/html": [
       "<div>\n",
       "<style scoped>\n",
       "    .dataframe tbody tr th:only-of-type {\n",
       "        vertical-align: middle;\n",
       "    }\n",
       "\n",
       "    .dataframe tbody tr th {\n",
       "        vertical-align: top;\n",
       "    }\n",
       "\n",
       "    .dataframe thead th {\n",
       "        text-align: right;\n",
       "    }\n",
       "</style>\n",
       "<table border=\"1\" class=\"dataframe\">\n",
       "  <thead>\n",
       "    <tr style=\"text-align: right;\">\n",
       "      <th></th>\n",
       "      <th>City</th>\n",
       "      <th>Cloudiness</th>\n",
       "      <th>Wind</th>\n",
       "      <th>Country</th>\n",
       "      <th>Temperature</th>\n",
       "      <th>Latitude</th>\n",
       "      <th>Longtitude</th>\n",
       "      <th>Hotel Name</th>\n",
       "    </tr>\n",
       "  </thead>\n",
       "  <tbody>\n",
       "    <tr>\n",
       "      <th>109</th>\n",
       "      <td>okhotsk</td>\n",
       "      <td>0</td>\n",
       "      <td>9.26</td>\n",
       "      <td>PE</td>\n",
       "      <td>296.15</td>\n",
       "      <td>-13.7000</td>\n",
       "      <td>-76.2167</td>\n",
       "      <td>Pisco</td>\n",
       "    </tr>\n",
       "    <tr>\n",
       "      <th>246</th>\n",
       "      <td>sechura</td>\n",
       "      <td>0</td>\n",
       "      <td>2.57</td>\n",
       "      <td>SY</td>\n",
       "      <td>295.93</td>\n",
       "      <td>34.8890</td>\n",
       "      <td>35.8866</td>\n",
       "      <td>Tartus‎</td>\n",
       "    </tr>\n",
       "    <tr>\n",
       "      <th>386</th>\n",
       "      <td>saquena</td>\n",
       "      <td>0</td>\n",
       "      <td>3.54</td>\n",
       "      <td>AO</td>\n",
       "      <td>299.39</td>\n",
       "      <td>-15.1961</td>\n",
       "      <td>12.1522</td>\n",
       "      <td>Namibe</td>\n",
       "    </tr>\n",
       "    <tr>\n",
       "      <th>387</th>\n",
       "      <td>bubaque</td>\n",
       "      <td>0</td>\n",
       "      <td>3.90</td>\n",
       "      <td>ZW</td>\n",
       "      <td>297.00</td>\n",
       "      <td>-22.2167</td>\n",
       "      <td>30.0000</td>\n",
       "      <td>Beitbridge</td>\n",
       "    </tr>\n",
       "    <tr>\n",
       "      <th>476</th>\n",
       "      <td>geresk</td>\n",
       "      <td>0</td>\n",
       "      <td>3.65</td>\n",
       "      <td>MZ</td>\n",
       "      <td>295.35</td>\n",
       "      <td>-23.8650</td>\n",
       "      <td>35.3833</td>\n",
       "      <td>Maxixe</td>\n",
       "    </tr>\n",
       "  </tbody>\n",
       "</table>\n",
       "</div>"
      ],
      "text/plain": [
       "        City  Cloudiness  Wind Country  Temperature  Latitude  Longtitude  \\\n",
       "109  okhotsk           0  9.26      PE       296.15  -13.7000    -76.2167   \n",
       "246  sechura           0  2.57      SY       295.93   34.8890     35.8866   \n",
       "386  saquena           0  3.54      AO       299.39  -15.1961     12.1522   \n",
       "387  bubaque           0  3.90      ZW       297.00  -22.2167     30.0000   \n",
       "476   geresk           0  3.65      MZ       295.35  -23.8650     35.3833   \n",
       "\n",
       "     Hotel Name  \n",
       "109       Pisco  \n",
       "246     Tartus‎  \n",
       "386      Namibe  \n",
       "387  Beitbridge  \n",
       "476      Maxixe  "
      ]
     },
     "execution_count": 114,
     "metadata": {},
     "output_type": "execute_result"
    }
   ],
   "source": [
    "hotels=[]\n",
    "\n",
    "hotel_df=good_weather\n",
    "hotel_df[\"Hotel Name\"]=\"\"\n",
    "\n",
    "for x in range(len(good_weather)):\n",
    "    lat = good_weather.iloc[x][5]\n",
    "    long = good_weather.iloc[x][6]\n",
    "    parameters = {\n",
    "        \"location\":f\"{lat},{long}\",\n",
    "        \"radius\": 5000,\n",
    "        \"types\": \"hotel\",\n",
    "        \"key\":g_key\n",
    "    }\n",
    "    url = \"https://maps.googleapis.com/maps/api/place/nearbysearch/json\"\n",
    "    response = requests.get(url,params=parameters)\n",
    "    json_response = response.json()\n",
    "  \n",
    "    hotels.append(json_response['results'][0]['name'])\n",
    "hotel_df[\"Hotel Name\"]= hotels\n",
    "hotel_df.head(10)\n"
   ]
  },
  {
   "cell_type": "code",
   "execution_count": null,
   "metadata": {},
   "outputs": [],
   "source": []
  },
  {
   "cell_type": "code",
   "execution_count": 109,
   "metadata": {},
   "outputs": [],
   "source": [
    "# NOTE: Do not change any of the code in this cell\n",
    "\n",
    "# Using the template add the hotel marks to the heatmap\n",
    "info_box_template = \"\"\"\n",
    "<dl>\n",
    "<dt>Name</dt><dd>{Hotel Name}</dd>\n",
    "<dt>City</dt><dd>{City}</dd>\n",
    "<dt>Country</dt><dd>{Country}</dd>\n",
    "</dl>\n",
    "\"\"\"\n",
    "# Store the DataFrame Row\n",
    "# NOTE: be sure to update with your DataFrame name\n",
    "hotel_info = [info_box_template.format(**row) for index, row in hotel_df.iterrows()]\n",
    "locations = hotel_df[[\"Latitude\", \"Longtitude\"]]"
   ]
  },
  {
   "cell_type": "code",
   "execution_count": 129,
   "metadata": {},
   "outputs": [
    {
     "data": {
      "application/vnd.jupyter.widget-view+json": {
       "model_id": "84e5b334029145679f405dba4b234895",
       "version_major": 2,
       "version_minor": 0
      },
      "text/plain": [
       "Figure(layout=FigureLayout(height='420px'))"
      ]
     },
     "metadata": {},
     "output_type": "display_data"
    }
   ],
   "source": [
    "# Add marker layer ontop of heat map\n",
    "city_list=hotel_df[\"City\"].tolist()\n",
    "country_list=hotel_df[\"Country\"].tolist()\n",
    "hotel_list=hotel_df[\"Hotel Name\"].tolist()\n",
    "marker = gmaps.marker_layer(locations,info_box_content=hotel_info)\n",
    "fig.add_layer(marker)\n",
    "\n",
    "# Display figure\n",
    "fig"
   ]
  },
  {
   "cell_type": "code",
   "execution_count": null,
   "metadata": {},
   "outputs": [],
   "source": []
  },
  {
   "cell_type": "code",
   "execution_count": null,
   "metadata": {},
   "outputs": [],
   "source": []
  }
 ],
 "metadata": {
  "kernelspec": {
   "display_name": "Python 3",
   "language": "python",
   "name": "python3"
  },
  "language_info": {
   "codemirror_mode": {
    "name": "ipython",
    "version": 3
   },
   "file_extension": ".py",
   "mimetype": "text/x-python",
   "name": "python",
   "nbconvert_exporter": "python",
   "pygments_lexer": "ipython3",
   "version": "3.8.5"
  },
  "latex_envs": {
   "LaTeX_envs_menu_present": true,
   "autoclose": false,
   "autocomplete": true,
   "bibliofile": "biblio.bib",
   "cite_by": "apalike",
   "current_citInitial": 1,
   "eqLabelWithNumbers": true,
   "eqNumInitial": 1,
   "hotkeys": {
    "equation": "Ctrl-E",
    "itemize": "Ctrl-I"
   },
   "labels_anchors": false,
   "latex_user_defs": false,
   "report_style_numbering": false,
   "user_envs_cfg": false
  }
 },
 "nbformat": 4,
 "nbformat_minor": 4
}
